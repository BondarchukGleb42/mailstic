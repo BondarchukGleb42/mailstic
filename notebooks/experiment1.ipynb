{
 "cells": [
  {
   "cell_type": "code",
   "execution_count": 2,
   "id": "4488420d-d4b4-4ece-9869-f0e4fb451544",
   "metadata": {},
   "outputs": [],
   "source": [
    "path = 'train_data_sila/train_data.csv'"
   ]
  },
  {
   "cell_type": "code",
   "execution_count": 3,
   "id": "ec91d385-49e6-424a-ad7c-3e12a505d9de",
   "metadata": {},
   "outputs": [],
   "source": [
    "import pandas as pd"
   ]
  },
  {
   "cell_type": "code",
   "execution_count": 4,
   "id": "5df4efea-f6b9-44c3-b1a7-11c3d53c6750",
   "metadata": {},
   "outputs": [],
   "source": [
    "data = pd.read_csv(path)\n",
    "data['full_text'] = data['Тема'] + ' ' + data['Описание']"
   ]
  },
  {
   "cell_type": "code",
   "execution_count": 5,
   "id": "a87ba373-bc5a-4d4a-a6ed-7abde088a324",
   "metadata": {},
   "outputs": [
    {
     "data": {
      "text/html": [
       "<div>\n",
       "<style scoped>\n",
       "    .dataframe tbody tr th:only-of-type {\n",
       "        vertical-align: middle;\n",
       "    }\n",
       "\n",
       "    .dataframe tbody tr th {\n",
       "        vertical-align: top;\n",
       "    }\n",
       "\n",
       "    .dataframe thead th {\n",
       "        text-align: right;\n",
       "    }\n",
       "</style>\n",
       "<table border=\"1\" class=\"dataframe\">\n",
       "  <thead>\n",
       "    <tr style=\"text-align: right;\">\n",
       "      <th></th>\n",
       "      <th>index</th>\n",
       "      <th>Тема</th>\n",
       "      <th>Описание</th>\n",
       "      <th>Тип оборудования</th>\n",
       "      <th>Точка отказа</th>\n",
       "      <th>Серийный номер</th>\n",
       "      <th>full_text</th>\n",
       "    </tr>\n",
       "  </thead>\n",
       "  <tbody>\n",
       "    <tr>\n",
       "      <th>0</th>\n",
       "      <td>0</td>\n",
       "      <td>Не работает блок питания</td>\n",
       "      <td>В течении недели перестал внезапно работать бл...</td>\n",
       "      <td>Ноутбук</td>\n",
       "      <td>Блок питания</td>\n",
       "      <td>C223100360</td>\n",
       "      <td>Не работает блок питания В течении недели пере...</td>\n",
       "    </tr>\n",
       "    <tr>\n",
       "      <th>1</th>\n",
       "      <td>1</td>\n",
       "      <td>Не включается SILA LLC HK2-3404.</td>\n",
       "      <td>Добрый день!_x000D_\\nПодскажите пожалуйста что...</td>\n",
       "      <td>Ноутбук</td>\n",
       "      <td>Материнская плата</td>\n",
       "      <td>C223094534</td>\n",
       "      <td>Не включается SILA LLC HK2-3404. Добрый день!_...</td>\n",
       "    </tr>\n",
       "    <tr>\n",
       "      <th>2</th>\n",
       "      <td>2</td>\n",
       "      <td>Сервер СР2-5422 // Системные ошибки // D251110041</td>\n",
       "      <td>Добрый вечер! На сервере появились системные о...</td>\n",
       "      <td>Сервер</td>\n",
       "      <td>Материнская плата</td>\n",
       "      <td>D251110041</td>\n",
       "      <td>Сервер СР2-5422 // Системные ошибки // D251110...</td>\n",
       "    </tr>\n",
       "    <tr>\n",
       "      <th>3</th>\n",
       "      <td>3</td>\n",
       "      <td>Повреждение матрицы</td>\n",
       "      <td>Прошу произвести диагностику и сориентировать ...</td>\n",
       "      <td>Ноутбук</td>\n",
       "      <td>Матрица</td>\n",
       "      <td>C223014328</td>\n",
       "      <td>Повреждение матрицы Прошу произвести диагности...</td>\n",
       "    </tr>\n",
       "    <tr>\n",
       "      <th>4</th>\n",
       "      <td>4</td>\n",
       "      <td>sila HK2-1404 c223014125 asset 7101087</td>\n",
       "      <td>Добрый день!\\nПрошу взять ноутбук sila HK2-140...</td>\n",
       "      <td>Ноутбук</td>\n",
       "      <td>Материнская плата</td>\n",
       "      <td>C223014125</td>\n",
       "      <td>sila HK2-1404 c223014125 asset 7101087 Добрый ...</td>\n",
       "    </tr>\n",
       "    <tr>\n",
       "      <th>...</th>\n",
       "      <td>...</td>\n",
       "      <td>...</td>\n",
       "      <td>...</td>\n",
       "      <td>...</td>\n",
       "      <td>...</td>\n",
       "      <td>...</td>\n",
       "      <td>...</td>\n",
       "    </tr>\n",
       "    <tr>\n",
       "      <th>189</th>\n",
       "      <td>189</td>\n",
       "      <td>НК2-1404 // Не работает Wi-FI (Кашира)// C2231...</td>\n",
       "      <td>На устройстве не работает WiFi\\n</td>\n",
       "      <td>Ноутбук</td>\n",
       "      <td>Wi-fi модуль</td>\n",
       "      <td>C223101219</td>\n",
       "      <td>НК2-1404 // Не работает Wi-FI (Кашира)// C2231...</td>\n",
       "    </tr>\n",
       "    <tr>\n",
       "      <th>190</th>\n",
       "      <td>190</td>\n",
       "      <td>Не работает блок питания (зарядка)</td>\n",
       "      <td>Не работает блок питания (зарядка)</td>\n",
       "      <td>Ноутбук</td>\n",
       "      <td>Блок питания</td>\n",
       "      <td>С223093223</td>\n",
       "      <td>Не работает блок питания (зарядка) Не работает...</td>\n",
       "    </tr>\n",
       "    <tr>\n",
       "      <th>191</th>\n",
       "      <td>191</td>\n",
       "      <td>Ноутбук НК2-1404 //Не работает клавиша F1 или ...</td>\n",
       "      <td>Добрый день,\\nпосле ремонта ноутбука перестала...</td>\n",
       "      <td>Ноутбук</td>\n",
       "      <td>Клавиатура</td>\n",
       "      <td>С223010731</td>\n",
       "      <td>Ноутбук НК2-1404 //Не работает клавиша F1 или ...</td>\n",
       "    </tr>\n",
       "    <tr>\n",
       "      <th>192</th>\n",
       "      <td>192</td>\n",
       "      <td>Отказ блока питания</td>\n",
       "      <td>Добрый день! \\n У нас перестал работать зарядн...</td>\n",
       "      <td>Ноутбук</td>\n",
       "      <td>Блок питания</td>\n",
       "      <td>C222091750</td>\n",
       "      <td>Отказ блока питания Добрый день! \\n У нас пере...</td>\n",
       "    </tr>\n",
       "    <tr>\n",
       "      <th>193</th>\n",
       "      <td>193</td>\n",
       "      <td>Обновление BIOS и BMC Cube</td>\n",
       "      <td>Добрый день!_x000D_\\nЕсли были обновления этих...</td>\n",
       "      <td>Сервер</td>\n",
       "      <td>Консультация</td>\n",
       "      <td>D263080001</td>\n",
       "      <td>Обновление BIOS и BMC Cube Добрый день!_x000D_...</td>\n",
       "    </tr>\n",
       "  </tbody>\n",
       "</table>\n",
       "<p>194 rows × 7 columns</p>\n",
       "</div>"
      ],
      "text/plain": [
       "     index                                               Тема  \\\n",
       "0        0                           Не работает блок питания   \n",
       "1        1                   Не включается SILA LLC HK2-3404.   \n",
       "2        2  Сервер СР2-5422 // Системные ошибки // D251110041   \n",
       "3        3                                Повреждение матрицы   \n",
       "4        4             sila HK2-1404 c223014125 asset 7101087   \n",
       "..     ...                                                ...   \n",
       "189    189  НК2-1404 // Не работает Wi-FI (Кашира)// C2231...   \n",
       "190    190                 Не работает блок питания (зарядка)   \n",
       "191    191  Ноутбук НК2-1404 //Не работает клавиша F1 или ...   \n",
       "192    192                                Отказ блока питания   \n",
       "193    193                         Обновление BIOS и BMC Cube   \n",
       "\n",
       "                                              Описание Тип оборудования  \\\n",
       "0    В течении недели перестал внезапно работать бл...          Ноутбук   \n",
       "1    Добрый день!_x000D_\\nПодскажите пожалуйста что...          Ноутбук   \n",
       "2    Добрый вечер! На сервере появились системные о...           Сервер   \n",
       "3    Прошу произвести диагностику и сориентировать ...          Ноутбук   \n",
       "4    Добрый день!\\nПрошу взять ноутбук sila HK2-140...          Ноутбук   \n",
       "..                                                 ...              ...   \n",
       "189                   На устройстве не работает WiFi\\n          Ноутбук   \n",
       "190                 Не работает блок питания (зарядка)          Ноутбук   \n",
       "191  Добрый день,\\nпосле ремонта ноутбука перестала...          Ноутбук   \n",
       "192  Добрый день! \\n У нас перестал работать зарядн...          Ноутбук   \n",
       "193  Добрый день!_x000D_\\nЕсли были обновления этих...           Сервер   \n",
       "\n",
       "          Точка отказа Серийный номер  \\\n",
       "0         Блок питания     C223100360   \n",
       "1    Материнская плата     C223094534   \n",
       "2    Материнская плата     D251110041   \n",
       "3              Матрица     C223014328   \n",
       "4    Материнская плата     C223014125   \n",
       "..                 ...            ...   \n",
       "189       Wi-fi модуль     C223101219   \n",
       "190       Блок питания     С223093223   \n",
       "191         Клавиатура     С223010731   \n",
       "192       Блок питания     C222091750   \n",
       "193       Консультация     D263080001   \n",
       "\n",
       "                                             full_text  \n",
       "0    Не работает блок питания В течении недели пере...  \n",
       "1    Не включается SILA LLC HK2-3404. Добрый день!_...  \n",
       "2    Сервер СР2-5422 // Системные ошибки // D251110...  \n",
       "3    Повреждение матрицы Прошу произвести диагности...  \n",
       "4    sila HK2-1404 c223014125 asset 7101087 Добрый ...  \n",
       "..                                                 ...  \n",
       "189  НК2-1404 // Не работает Wi-FI (Кашира)// C2231...  \n",
       "190  Не работает блок питания (зарядка) Не работает...  \n",
       "191  Ноутбук НК2-1404 //Не работает клавиша F1 или ...  \n",
       "192  Отказ блока питания Добрый день! \\n У нас пере...  \n",
       "193  Обновление BIOS и BMC Cube Добрый день!_x000D_...  \n",
       "\n",
       "[194 rows x 7 columns]"
      ]
     },
     "execution_count": 5,
     "metadata": {},
     "output_type": "execute_result"
    }
   ],
   "source": [
    "data"
   ]
  },
  {
   "cell_type": "code",
   "execution_count": 6,
   "id": "495fb4fb-c050-4c06-a3aa-f55f67f8d0fc",
   "metadata": {},
   "outputs": [
    {
     "data": {
      "text/plain": [
       "array(['C223100360', 'C223094534', 'D251110041', 'C223014328',\n",
       "       'C223014125', 'C223010123', 'C223091001', 'C223012430',\n",
       "       'D252030021', 'c223012961', 'C223100312', 'C223090725',\n",
       "       'C223102255', 'CKM01212505744', 'С111120102', 'D252110012',\n",
       "       'С112040045', 'C222090950', 'C223090096', 'C223010035',\n",
       "       'C223102298', 'C223091126', 'C223010076', 'C223013256',\n",
       "       'С223090320', 'C223013523', 'C223014561', 'C223010345, С223092735',\n",
       "       'D263120004', 'D114030017(FTKY614)', 'С111080061', 'C223010446',\n",
       "       'D252030009',\n",
       "       'C223011170, C223102198, C223011889, C223101201, C223100299, C223011531',\n",
       "       'D251110015', 'C222090246', 'D254020003', 'C223091623',\n",
       "       'C223012998 C223101389  C223102298   C223100876  C223100050',\n",
       "       'D263090003', 'C223013250', 'C223011660', 'C233041042',\n",
       "       'C223011088', 'С111080030', 'C223091624', 'D251110011',\n",
       "       'C223014954', 'С223010395', 'C223012095', 'С223091324',\n",
       "       'С223091153', 'C223090893', 'C223090123', 'C223010423, C223011174',\n",
       "       'C223011046', 'C223011355', 'С111080029', 'C223091505',\n",
       "       'C223092664', 'C223011313', 'C223012413', 'C223100567',\n",
       "       'Е213120001', 'C223091496', 'C223090716', 'C223093014',\n",
       "       'C223090552', 'C223094573', 'CKM00194301861 // E419120013',\n",
       "       'C223012685', 'C223012682, C223011343, C223011380', 'С111120125',\n",
       "       'C223012272', 'C223011324', 'C223090155', 'С223011148',\n",
       "       'C222090998', 'D252030034', 'CKM00194300974', 'D252030050',\n",
       "       'D252030013', 'C111110002', 'D251110023', 'C223010066',\n",
       "       'C223012662', 'C233040369', 'C223012840', 'C111110043',\n",
       "       'C223012938', 'C223090918', 'C223012632', 'C223012010',\n",
       "       'C222091115',\n",
       "       'C223012606 C223012600 C223012675 C223011979 C223012790 C223011888',\n",
       "       'C223100275', 'C223011480', 'D114030010', 'C223090502',\n",
       "       'C223012127', 'D251110008', 'CKM00193800300', 'C223013549',\n",
       "       'C223101193', 'C223012685 C223010230 C223010386', 'D253040009',\n",
       "       'C223100876', 'C223013328', 'C223010034', 'C223012603',\n",
       "       'c223012503', 'C223100870', 'C223011966', 'C223010721',\n",
       "       'D253010009', 'C223010310', 'C223012410', 'C223090551',\n",
       "       'D252030019', 'C223101538', 'C223012335', 'D251110031',\n",
       "       'С223092905', 'С222090774', 'D252030011', 'C223010327',\n",
       "       'C223091227', 'C222091964', 'C223101179', 'C223014758',\n",
       "       'C223010757', 'CKM00194300973', 'C223090609', 'C223100251',\n",
       "       'С111110066', 'C223012059', 'C223010731', 'C223013450',\n",
       "       'C111110003', 'C223100081', 'С222090230', 'C223013824',\n",
       "       'C223011958', 'C233041869', 'D252030014', 'C223101457',\n",
       "       'C222091827', 'CKM00194401300', 'D252030012', 'C222091591',\n",
       "       'C223011312', 'E244030004, E244030002, E244030003', 'C222091364',\n",
       "       'C223090664', 'C223010701', 'C222090381', 'C223091364',\n",
       "       'CKM00193901783', 'C223100822', 'C223090696', 'C223011138',\n",
       "       'C111120016', 'C223090004', 'D251110010', 'C223102038',\n",
       "       'C223091266', 'C223011328', 'C223093407', 'C112050125',\n",
       "       'C223012731', 'C223014726', 'C223011358', 'C223012702',\n",
       "       'С222091091', 'C223010240', 'C223014096', 'C223012673',\n",
       "       'C223012100', 'd252090013', 'C223101296', 'C223091736',\n",
       "       'CKM00194301861',\n",
       "       'C223091216 C223091307 C223091468 C223091751 C223090099 C223090635 C223091364 C223091547 C223091736 C223091275 C223091861 C223090091 C223090302 C223090269 C223090214',\n",
       "       'C223091025', 'C223101219', 'С223093223', 'С223010731',\n",
       "       'C222091750', 'D263080001'], dtype=object)"
      ]
     },
     "execution_count": 6,
     "metadata": {},
     "output_type": "execute_result"
    }
   ],
   "source": [
    "data['Серийный номер'].unique()"
   ]
  },
  {
   "cell_type": "code",
   "execution_count": 5,
   "id": "1741e5de-5326-475a-88f3-9624119b4b86",
   "metadata": {},
   "outputs": [
    {
     "data": {
      "text/html": [
       "<div>\n",
       "<style scoped>\n",
       "    .dataframe tbody tr th:only-of-type {\n",
       "        vertical-align: middle;\n",
       "    }\n",
       "\n",
       "    .dataframe tbody tr th {\n",
       "        vertical-align: top;\n",
       "    }\n",
       "\n",
       "    .dataframe thead th {\n",
       "        text-align: right;\n",
       "    }\n",
       "</style>\n",
       "<table border=\"1\" class=\"dataframe\">\n",
       "  <thead>\n",
       "    <tr style=\"text-align: right;\">\n",
       "      <th></th>\n",
       "      <th>index</th>\n",
       "      <th>Тема</th>\n",
       "      <th>Описание</th>\n",
       "      <th>Тип оборудования</th>\n",
       "      <th>Точка отказа</th>\n",
       "      <th>Серийный номер</th>\n",
       "      <th>full_text</th>\n",
       "    </tr>\n",
       "  </thead>\n",
       "  <tbody>\n",
       "    <tr>\n",
       "      <th>61</th>\n",
       "      <td>61</td>\n",
       "      <td>СИЛА НК2-1404 // Отвалился разъем type c // C2...</td>\n",
       "      <td>Отвалился разъем type c  на зарядном устройстве</td>\n",
       "      <td>Ноутбук</td>\n",
       "      <td>Блок питания</td>\n",
       "      <td>C223012413</td>\n",
       "      <td>СИЛА НК2-1404 // Отвалился разъем type c // C2...</td>\n",
       "    </tr>\n",
       "  </tbody>\n",
       "</table>\n",
       "</div>"
      ],
      "text/plain": [
       "    index                                               Тема  \\\n",
       "61     61  СИЛА НК2-1404 // Отвалился разъем type c // C2...   \n",
       "\n",
       "                                           Описание Тип оборудования  \\\n",
       "61  Отвалился разъем type c  на зарядном устройстве          Ноутбук   \n",
       "\n",
       "    Точка отказа Серийный номер  \\\n",
       "61  Блок питания     C223012413   \n",
       "\n",
       "                                            full_text  \n",
       "61  СИЛА НК2-1404 // Отвалился разъем type c // C2...  "
      ]
     },
     "execution_count": 5,
     "metadata": {},
     "output_type": "execute_result"
    }
   ],
   "source": [
    "data.sample(1)"
   ]
  },
  {
   "cell_type": "markdown",
   "id": "aaa3a901-bc8a-4527-934e-324450b093e7",
   "metadata": {},
   "source": [
    "## zero-shot-classify-SSTuning-XLM-R"
   ]
  },
  {
   "cell_type": "code",
   "execution_count": 36,
   "id": "40af7b62-411c-49f9-a7df-3a9084d02d46",
   "metadata": {},
   "outputs": [
    {
     "name": "stdout",
     "output_type": "stream",
     "text": [
      "Аварийно перезагрузился сервер, в логе BMC появилось совпадающее по времени событие:_x000D_\n",
      "20\t Critical\t2024-05-31 17:38:27 (UTC+3)_x000D_\n",
      "Intel ME has encountered UMA operation error. Details: UMA Read/Write timeout. Timeout occurred during copying data from/to UMA._x000D_\n",
      "_x000D_\n",
      "Просьба продиагностировать, возможно ли использовать данный сервер в продуктивном контуре ?\n",
      "Сервер. Сервер\n"
     ]
    }
   ],
   "source": [
    "from transformers import AutoTokenizer, AutoModelForSequenceClassification\n",
    "import torch, string, random\n",
    "\n",
    "tokenizer = AutoTokenizer.from_pretrained(\"DAMO-NLP-SG/zero-shot-classify-SSTuning-XLM-R\")\n",
    "model = AutoModelForSequenceClassification.from_pretrained(\"DAMO-NLP-SG/zero-shot-classify-SSTuning-XLM-R\")\n",
    "\n",
    "sample = data.sample(1)\n",
    "text = sample['Описание'].values[0]\n",
    "true_label = sample['Тип оборудования'].values[0]\n",
    "list_label = data['Тип оборудования'].unique().tolist()\n",
    "\n",
    "device = torch.device('cuda') if torch.cuda.is_available() else torch.device('cpu')\n",
    "list_ABC = [x for x in string.ascii_uppercase]\n",
    "\n",
    "def check_text(model, text, list_label, shuffle=False): \n",
    "    list_label = [x+'.' if x[-1] != '.' else x for x in list_label]\n",
    "    list_label_new = list_label + [tokenizer.pad_token]* (20 - len(list_label))\n",
    "    if shuffle: \n",
    "        random.shuffle(list_label_new)\n",
    "    s_option = ' '.join(['('+list_ABC[i]+') '+list_label_new[i] for i in range(len(list_label_new))])\n",
    "    text = f'{s_option} {tokenizer.sep_token} {text}'\n",
    "\n",
    "    model.to(device).eval()\n",
    "    encoding = tokenizer([text],truncation=True, max_length=512,return_tensors='pt')\n",
    "    item = {key: val.to(device) for key, val in encoding.items()}\n",
    "    logits = model(**item).logits\n",
    "    \n",
    "    logits = logits if shuffle else logits[:,0:len(list_label)]\n",
    "    probs = torch.nn.functional.softmax(logits, dim = -1).tolist()\n",
    "    predictions = torch.argmax(logits, dim=-1).item() \n",
    "    probabilities = [round(x,5) for x in probs[0]]\n",
    "\n",
    "    return list_label_new[predictions]\n",
    "\n",
    "print(text)\n",
    "print(check_text(model, text, list_label), true_label)"
   ]
  },
  {
   "cell_type": "code",
   "execution_count": 7,
   "id": "68c54e01-5aca-42fd-8e76-8c228f0c191f",
   "metadata": {},
   "outputs": [],
   "source": [
    "from tqdm.notebook import tqdm"
   ]
  },
  {
   "cell_type": "code",
   "execution_count": 8,
   "id": "d8bca670-f896-499d-bce1-73646dbe4d3b",
   "metadata": {},
   "outputs": [
    {
     "data": {
      "application/vnd.jupyter.widget-view+json": {
       "model_id": "95fdde452be6472da279e43c4b6c4725",
       "version_major": 2,
       "version_minor": 0
      },
      "text/plain": [
       "0it [00:00, ?it/s]"
      ]
     },
     "metadata": {},
     "output_type": "display_data"
    }
   ],
   "source": [
    "list_label = data['Тип оборудования'].unique().tolist()\n",
    "pred, ans = [], []\n",
    "for row in tqdm(data.iterrows()):\n",
    "    text = row[1]['Описание']\n",
    "    true_label = row[1]['Тип оборудования']\n",
    "    pred_label = check_text(model, text, list_label)\n",
    "    pred.append(pred_label)\n",
    "    ans.append(true_label)\n",
    "pred = [x.replace('.', '') for x in pred]"
   ]
  },
  {
   "cell_type": "code",
   "execution_count": 9,
   "id": "fdb3cd2d-2500-44c7-9c87-92c7a9217765",
   "metadata": {},
   "outputs": [
    {
     "name": "stdout",
     "output_type": "stream",
     "text": [
      "              precision    recall  f1-score   support\n",
      "\n",
      "     Ноутбук       0.85      0.99      0.92       132\n",
      "         СХД       0.91      0.30      0.45        33\n",
      "      Сервер       0.72      0.72      0.72        29\n",
      "\n",
      "    accuracy                           0.84       194\n",
      "   macro avg       0.83      0.67      0.70       194\n",
      "weighted avg       0.84      0.84      0.81       194\n",
      "\n"
     ]
    }
   ],
   "source": [
    "from sklearn.metrics import classification_report\n",
    "print(classification_report(pred, ans))"
   ]
  },
  {
   "cell_type": "code",
   "execution_count": 37,
   "id": "306574c2-9e2e-4e81-a4ad-ec10bd9d1029",
   "metadata": {},
   "outputs": [
    {
     "data": {
      "application/vnd.jupyter.widget-view+json": {
       "model_id": "bdfb9f9fd0bd4735b0b9999215233ae0",
       "version_major": 2,
       "version_minor": 0
      },
      "text/plain": [
       "0it [00:00, ?it/s]"
      ]
     },
     "metadata": {},
     "output_type": "display_data"
    }
   ],
   "source": [
    "list_label = data['Точка отказа'].unique().tolist()\n",
    "pred, ans = [], []\n",
    "for row in tqdm(data.iterrows()):\n",
    "    text = row[1]['full_text']\n",
    "    true_label = row[1]['Точка отказа']\n",
    "    pred_label = check_text(model, text, list_label)\n",
    "    pred.append(pred_label)\n",
    "    ans.append(true_label)\n",
    "pred = [x.replace('.', '') for x in pred]"
   ]
  },
  {
   "cell_type": "code",
   "execution_count": 38,
   "id": "62c084a4-a701-4322-be4f-4d1f66b703d5",
   "metadata": {},
   "outputs": [
    {
     "name": "stdout",
     "output_type": "stream",
     "text": [
      "                         precision    recall  f1-score   support\n",
      "\n",
      "                   Jack       0.00      0.00      0.00         1\n",
      "             SFP модуль       1.00      1.00      1.00         1\n",
      "          Wi-fi антенна       0.50      0.67      0.57         3\n",
      "           Wi-fi модуль       0.25      0.33      0.29         3\n",
      "            Аккумулятор       1.00      0.50      0.67         2\n",
      "           Блок питания       0.55      0.64      0.59        33\n",
      "             Вентилятор       0.29      0.40      0.33         5\n",
      "               Динамики       1.00      0.14      0.25         7\n",
      "                   Диск       0.73      0.73      0.73        11\n",
      "                  Диск        0.20      0.50      0.29         2\n",
      "                 Камера       0.00      0.00      0.00         3\n",
      "             Клавиатура       0.29      0.67      0.40         3\n",
      "           Консультация       0.46      0.10      0.16        62\n",
      "                 Корпус       0.00      0.00      0.00         3\n",
      "      Материнская плата       0.00      0.00      0.00         0\n",
      "                Матрица       0.41      0.88      0.56        17\n",
      "     Оперативная память       0.40      0.40      0.40         5\n",
      "Программное обеспечение       0.00      0.00      0.00         4\n",
      "                 Сервер       1.00      0.28      0.43        29\n",
      "\n",
      "               accuracy                           0.37       194\n",
      "              macro avg       0.42      0.38      0.35       194\n",
      "           weighted avg       0.56      0.37      0.37       194\n",
      "\n"
     ]
    },
    {
     "name": "stderr",
     "output_type": "stream",
     "text": [
      "C:\\Users\\Илья\\AppData\\Local\\Programs\\Python\\Python312\\Lib\\site-packages\\sklearn\\metrics\\_classification.py:1531: UndefinedMetricWarning: Recall is ill-defined and being set to 0.0 in labels with no true samples. Use `zero_division` parameter to control this behavior.\n",
      "  _warn_prf(average, modifier, f\"{metric.capitalize()} is\", len(result))\n",
      "C:\\Users\\Илья\\AppData\\Local\\Programs\\Python\\Python312\\Lib\\site-packages\\sklearn\\metrics\\_classification.py:1531: UndefinedMetricWarning: Recall is ill-defined and being set to 0.0 in labels with no true samples. Use `zero_division` parameter to control this behavior.\n",
      "  _warn_prf(average, modifier, f\"{metric.capitalize()} is\", len(result))\n",
      "C:\\Users\\Илья\\AppData\\Local\\Programs\\Python\\Python312\\Lib\\site-packages\\sklearn\\metrics\\_classification.py:1531: UndefinedMetricWarning: Recall is ill-defined and being set to 0.0 in labels with no true samples. Use `zero_division` parameter to control this behavior.\n",
      "  _warn_prf(average, modifier, f\"{metric.capitalize()} is\", len(result))\n"
     ]
    }
   ],
   "source": [
    "from sklearn.metrics import classification_report\n",
    "print(classification_report(pred, ans))"
   ]
  },
  {
   "cell_type": "markdown",
   "id": "4d693b4e-afad-4df1-b12e-8462fe784c84",
   "metadata": {},
   "source": [
    "## MoritzLaurer/mDeBERTa-v3-base-xnli-multilingual-nli-2mil7"
   ]
  },
  {
   "cell_type": "code",
   "execution_count": 10,
   "id": "2b881c8f-1883-4864-bb58-74f049ecdc53",
   "metadata": {},
   "outputs": [],
   "source": [
    "# !pip install tf_keras"
   ]
  },
  {
   "cell_type": "code",
   "execution_count": 39,
   "id": "a27dc7b6-bf78-4fa5-93d9-0f4cf26fba4a",
   "metadata": {},
   "outputs": [
    {
     "name": "stdout",
     "output_type": "stream",
     "text": [
      "politics\n"
     ]
    }
   ],
   "source": [
    "from transformers import pipeline\n",
    "import numpy as np\n",
    "from tqdm.notebook import tqdm\n",
    "classifier = pipeline(\"zero-shot-classification\", model=\"MoritzLaurer/mDeBERTa-v3-base-mnli-xnli\", device='cuda:0')\n",
    "sequence_to_classify = \"Angela Merkel ist eine Politikerin in Deutschland und Vorsitzende der CDU\"\n",
    "candidate_labels = [\"politics\", \"economy\", \"entertainment\", \"environment\"]\n",
    "output = classifier(sequence_to_classify, candidate_labels, multi_label=False)\n",
    "print(output['labels'][np.argmax(output['scores'])])"
   ]
  },
  {
   "cell_type": "code",
   "execution_count": 40,
   "id": "8daacaa7-0fb7-43d0-b4c9-548a3626fd1b",
   "metadata": {},
   "outputs": [
    {
     "data": {
      "text/plain": [
       "0"
      ]
     },
     "execution_count": 40,
     "metadata": {},
     "output_type": "execute_result"
    }
   ],
   "source": [
    "np.argmax(output['scores'])"
   ]
  },
  {
   "cell_type": "code",
   "execution_count": 13,
   "id": "9d7bb4a8-ac89-47d8-973f-bb940d69cb1c",
   "metadata": {},
   "outputs": [
    {
     "data": {
      "text/plain": [
       "{'sequence': 'Angela Merkel ist eine Politikerin in Deutschland und Vorsitzende der CDU',\n",
       " 'labels': ['politics', 'economy', 'environment', 'entertainment'],\n",
       " 'scores': [0.9658798575401306,\n",
       "  0.022846847772598267,\n",
       "  0.007333965040743351,\n",
       "  0.003939332906156778]}"
      ]
     },
     "execution_count": 13,
     "metadata": {},
     "output_type": "execute_result"
    }
   ],
   "source": [
    "output"
   ]
  },
  {
   "cell_type": "code",
   "execution_count": 14,
   "id": "76ca9364-2d23-4f99-8bf4-7d472221c460",
   "metadata": {},
   "outputs": [
    {
     "data": {
      "application/vnd.jupyter.widget-view+json": {
       "model_id": "729d32c5fe0245d293914b77b065526f",
       "version_major": 2,
       "version_minor": 0
      },
      "text/plain": [
       "0it [00:00, ?it/s]"
      ]
     },
     "metadata": {},
     "output_type": "display_data"
    },
    {
     "name": "stderr",
     "output_type": "stream",
     "text": [
      "You seem to be using the pipelines sequentially on GPU. In order to maximize efficiency please use a dataset\n"
     ]
    }
   ],
   "source": [
    "classifier = pipeline(\"zero-shot-classification\", model=\"MoritzLaurer/mDeBERTa-v3-base-mnli-xnli\", device='cuda:0')\n",
    "\n",
    "list_label = data['Тип оборудования'].unique().tolist()\n",
    "pred, ans = [], []\n",
    "for row in tqdm(data.iterrows()):\n",
    "    text = row[1]['Описание']\n",
    "    true_label = row[1]['Тип оборудования']\n",
    "    output = classifier(text, list_label, multi_label=False)\n",
    "    pred_label = output['labels'][np.argmax(output['scores'])]\n",
    "    pred.append(pred_label)\n",
    "    ans.append(true_label)"
   ]
  },
  {
   "cell_type": "code",
   "execution_count": 15,
   "id": "23b368a1-8cc5-4552-bc42-c3f0fa8da7fe",
   "metadata": {},
   "outputs": [
    {
     "name": "stdout",
     "output_type": "stream",
     "text": [
      "              precision    recall  f1-score   support\n",
      "\n",
      "     Ноутбук       0.60      0.99      0.74        93\n",
      "         СХД       0.82      0.21      0.33        43\n",
      "      Сервер       0.79      0.40      0.53        58\n",
      "\n",
      "    accuracy                           0.64       194\n",
      "   macro avg       0.74      0.53      0.54       194\n",
      "weighted avg       0.70      0.64      0.59       194\n",
      "\n"
     ]
    }
   ],
   "source": [
    "from sklearn.metrics import classification_report\n",
    "print(classification_report(pred, ans))"
   ]
  },
  {
   "cell_type": "code",
   "execution_count": 41,
   "id": "7caf31d6-1fd0-4fd0-9fd5-aef808ed14bb",
   "metadata": {},
   "outputs": [
    {
     "data": {
      "application/vnd.jupyter.widget-view+json": {
       "model_id": "3e5586cb4e8c45509575aa48790c3066",
       "version_major": 2,
       "version_minor": 0
      },
      "text/plain": [
       "0it [00:00, ?it/s]"
      ]
     },
     "metadata": {},
     "output_type": "display_data"
    }
   ],
   "source": [
    "classifier = pipeline(\"zero-shot-classification\", model=\"MoritzLaurer/mDeBERTa-v3-base-mnli-xnli\", device='cuda:0')\n",
    "\n",
    "list_label = data['Точка отказа'].unique().tolist()\n",
    "pred, ans = [], []\n",
    "for row in tqdm(data.iterrows()):\n",
    "    text = row[1]['Описание']\n",
    "    true_label = row[1]['Точка отказа']\n",
    "    output = classifier(text, list_label, multi_label=False)\n",
    "    pred_label = output['labels'][np.argmax(output['scores'])]\n",
    "    pred.append(pred_label)\n",
    "    ans.append(true_label)"
   ]
  },
  {
   "cell_type": "code",
   "execution_count": 42,
   "id": "03dc715e-a03c-4f06-8e54-c0f1a167de22",
   "metadata": {},
   "outputs": [
    {
     "name": "stdout",
     "output_type": "stream",
     "text": [
      "                         precision    recall  f1-score   support\n",
      "\n",
      "                   Jack       0.00      0.00      0.00         1\n",
      "             SFP модуль       0.00      0.00      0.00         0\n",
      "          Wi-fi антенна       0.25      1.00      0.40         1\n",
      "           Wi-fi модуль       0.25      0.50      0.33         2\n",
      "            Аккумулятор       0.00      0.00      0.00        13\n",
      "           Блок питания       0.24      0.82      0.37        11\n",
      "             Вентилятор       0.43      0.43      0.43         7\n",
      "               Динамики       1.00      0.06      0.11        17\n",
      "                   Диск       0.91      0.91      0.91        11\n",
      "                  Диск        0.00      0.00      0.00         2\n",
      "                 Камера       0.00      0.00      0.00         2\n",
      "             Клавиатура       0.57      0.80      0.67         5\n",
      "           Консультация       0.31      0.11      0.16        38\n",
      "                 Корпус       0.33      0.06      0.10        17\n",
      "      Материнская плата       0.00      0.00      0.00         9\n",
      "                Матрица       0.30      0.92      0.45        12\n",
      "     Оперативная память       0.20      0.50      0.29         2\n",
      "Программное обеспечение       0.00      0.00      0.00        10\n",
      "                 Сервер       1.00      0.24      0.38        34\n",
      "\n",
      "               accuracy                           0.28       194\n",
      "              macro avg       0.30      0.33      0.24       194\n",
      "           weighted avg       0.47      0.28      0.26       194\n",
      "\n"
     ]
    },
    {
     "name": "stderr",
     "output_type": "stream",
     "text": [
      "C:\\Users\\Илья\\AppData\\Local\\Programs\\Python\\Python312\\Lib\\site-packages\\sklearn\\metrics\\_classification.py:1531: UndefinedMetricWarning: Recall is ill-defined and being set to 0.0 in labels with no true samples. Use `zero_division` parameter to control this behavior.\n",
      "  _warn_prf(average, modifier, f\"{metric.capitalize()} is\", len(result))\n",
      "C:\\Users\\Илья\\AppData\\Local\\Programs\\Python\\Python312\\Lib\\site-packages\\sklearn\\metrics\\_classification.py:1531: UndefinedMetricWarning: Recall is ill-defined and being set to 0.0 in labels with no true samples. Use `zero_division` parameter to control this behavior.\n",
      "  _warn_prf(average, modifier, f\"{metric.capitalize()} is\", len(result))\n",
      "C:\\Users\\Илья\\AppData\\Local\\Programs\\Python\\Python312\\Lib\\site-packages\\sklearn\\metrics\\_classification.py:1531: UndefinedMetricWarning: Recall is ill-defined and being set to 0.0 in labels with no true samples. Use `zero_division` parameter to control this behavior.\n",
      "  _warn_prf(average, modifier, f\"{metric.capitalize()} is\", len(result))\n"
     ]
    }
   ],
   "source": [
    "from sklearn.metrics import classification_report\n",
    "print(classification_report(pred, ans))"
   ]
  },
  {
   "cell_type": "markdown",
   "id": "2fa36b7b-39eb-45ba-9fd4-45266caf6a70",
   "metadata": {},
   "source": [
    "## Cosine similarity with RuBert"
   ]
  },
  {
   "cell_type": "code",
   "execution_count": 44,
   "id": "78e6a20d-58a3-413c-bb2d-ddbba85d04d0",
   "metadata": {},
   "outputs": [
    {
     "name": "stderr",
     "output_type": "stream",
     "text": [
      "Some weights of the model checkpoint at DeepPavlov/rubert-base-cased were not used when initializing BertModel: ['cls.predictions.bias', 'cls.predictions.decoder.bias', 'cls.predictions.decoder.weight', 'cls.predictions.transform.LayerNorm.bias', 'cls.predictions.transform.LayerNorm.weight', 'cls.predictions.transform.dense.bias', 'cls.predictions.transform.dense.weight', 'cls.seq_relationship.bias', 'cls.seq_relationship.weight']\n",
      "- This IS expected if you are initializing BertModel from the checkpoint of a model trained on another task or with another architecture (e.g. initializing a BertForSequenceClassification model from a BertForPreTraining model).\n",
      "- This IS NOT expected if you are initializing BertModel from the checkpoint of a model that you expect to be exactly identical (initializing a BertForSequenceClassification model from a BertForSequenceClassification model).\n"
     ]
    }
   ],
   "source": [
    "# Load model directly\n",
    "from transformers import AutoTokenizer, AutoModel\n",
    "import torch\n",
    "\n",
    "tokenizer = AutoTokenizer.from_pretrained(\"DeepPavlov/rubert-base-cased\")\n",
    "model = AutoModel.from_pretrained(\"DeepPavlov/rubert-base-cased\").cuda()"
   ]
  },
  {
   "cell_type": "code",
   "execution_count": 45,
   "id": "edeadcd3-50ac-4b98-a888-77452533d589",
   "metadata": {},
   "outputs": [],
   "source": [
    "from transformers import AutoTokenizer, AutoModel\n",
    "import torch\n",
    "\n",
    "device = torch.device(\"cuda\" if torch.cuda.is_available() else \"cpu\")\n",
    "model.to(device)\n",
    "\n",
    "text = data['Описание'].values.tolist()\n",
    "inputs = tokenizer(text, return_tensors=\"pt\", padding=True, truncation=True, max_length=512)\n",
    "inputs = {key: value.to(device) for key, value in inputs.items()}\n",
    "\n",
    "with torch.no_grad():\n",
    "    outputs = model(**inputs)\n",
    "\n",
    "last_hidden_state = outputs.last_hidden_state\n",
    "cls_features = last_hidden_state[:, 0, :]\n",
    "cls_features = cls_features.cpu()"
   ]
  },
  {
   "cell_type": "code",
   "execution_count": 46,
   "id": "b461d860-d2ab-4a57-be67-9c6428a3d155",
   "metadata": {},
   "outputs": [],
   "source": [
    "list_label = data['Тип оборудования'].unique().tolist()\n",
    "class_input = tokenizer(list_label, return_tensors=\"pt\", padding=True, truncation=True, max_length=512)\n",
    "class_input = {key: value.to(device) for key, value in class_input.items()}"
   ]
  },
  {
   "cell_type": "code",
   "execution_count": 47,
   "id": "517f6c39-c311-4a52-8d78-87572759d3e8",
   "metadata": {},
   "outputs": [],
   "source": [
    "with torch.no_grad():\n",
    "    class_outputs = model(**class_input)\n",
    "\n",
    "last_hidden_state = class_outputs.last_hidden_state\n",
    "class_features = last_hidden_state[:, 0, :]\n",
    "class_features = class_features.cpu()"
   ]
  },
  {
   "cell_type": "code",
   "execution_count": 48,
   "id": "a50289c9-dc1b-4a1c-bad3-26f1707b3742",
   "metadata": {},
   "outputs": [
    {
     "data": {
      "text/plain": [
       "torch.Size([3, 768])"
      ]
     },
     "execution_count": 48,
     "metadata": {},
     "output_type": "execute_result"
    }
   ],
   "source": [
    "class_features.shape"
   ]
  },
  {
   "cell_type": "code",
   "execution_count": 49,
   "id": "e50e165d-f5cc-4e34-bfb5-aef5abd7c43d",
   "metadata": {},
   "outputs": [
    {
     "data": {
      "text/plain": [
       "torch.Size([194, 768])"
      ]
     },
     "execution_count": 49,
     "metadata": {},
     "output_type": "execute_result"
    }
   ],
   "source": [
    "cls_features.shape"
   ]
  },
  {
   "cell_type": "code",
   "execution_count": 50,
   "id": "8bf3b57c-5540-458f-941d-b32967f7b1d6",
   "metadata": {},
   "outputs": [],
   "source": [
    "import torch\n",
    "\n",
    "# Normalize the class_features and cls_features to unit vectors\n",
    "class_features_norm = torch.nn.functional.normalize(class_features, p=2, dim=1)\n",
    "cls_features_norm = torch.nn.functional.normalize(cls_features, p=2, dim=1)\n",
    "\n",
    "# Compute the cosine similarity matrix\n",
    "cosine_sim_matrix = torch.matmul(cls_features_norm, class_features_norm.T)\n",
    "\n",
    "# Get the best class for each row in cls_features\n",
    "best_class_indices = torch.argmax(cosine_sim_matrix, dim=1)\n",
    "\n",
    "# Convert the indices to class labels if needed\n",
    "best_class_labels = best_class_indices.tolist()\n",
    "\n",
    "# If you want the actual cosine similarity values for the best class:\n",
    "best_cosine_sim_values = torch.max(cosine_sim_matrix, dim=1).values\n",
    "\n",
    "# Now best_class_labels contains the best class for each row in cls_features\n",
    "# and best_cosine_sim_values contains the corresponding cosine similarity values"
   ]
  },
  {
   "cell_type": "code",
   "execution_count": 51,
   "id": "a3c16190-b1d8-4e3b-906b-7c85206f44dc",
   "metadata": {},
   "outputs": [],
   "source": [
    "dict_ = {\n",
    "    0:list_label[0],\n",
    "    1:list_label[1],\n",
    "    2:list_label[2],\n",
    "}"
   ]
  },
  {
   "cell_type": "code",
   "execution_count": 52,
   "id": "c76c4aff-32b5-4f72-9e89-834c7abe6791",
   "metadata": {},
   "outputs": [],
   "source": [
    "pred = [dict_[x] for x in best_class_labels]\n",
    "ans = data['Тип оборудования'].tolist()"
   ]
  },
  {
   "cell_type": "code",
   "execution_count": 53,
   "id": "808a49e7-39b7-4642-b3cc-7ab88a5355f7",
   "metadata": {},
   "outputs": [
    {
     "name": "stdout",
     "output_type": "stream",
     "text": [
      "              precision    recall  f1-score   support\n",
      "\n",
      "     Ноутбук       0.81      0.79      0.80       158\n",
      "         СХД       0.09      0.03      0.05        33\n",
      "      Сервер       0.00      0.00      0.00         3\n",
      "\n",
      "    accuracy                           0.65       194\n",
      "   macro avg       0.30      0.27      0.28       194\n",
      "weighted avg       0.68      0.65      0.66       194\n",
      "\n"
     ]
    }
   ],
   "source": [
    "from sklearn.metrics import classification_report\n",
    "print(classification_report(pred, ans))"
   ]
  },
  {
   "cell_type": "code",
   "execution_count": 62,
   "id": "53a789bb-3d7b-4cac-b965-b4c5c1245cf3",
   "metadata": {},
   "outputs": [],
   "source": [
    "list_label = data['Точка отказа'].unique().tolist()\n",
    "class_input = tokenizer(list_label, return_tensors=\"pt\", padding=True, truncation=True, max_length=512)\n",
    "class_input = {key: value.to(device) for key, value in class_input.items()}\n",
    "\n",
    "with torch.no_grad():\n",
    "    class_outputs = model(**class_input)\n",
    "\n",
    "last_hidden_state = class_outputs.last_hidden_state\n",
    "class_features = last_hidden_state[:, 0, :]\n",
    "class_features = class_features.cpu()\n",
    "\n",
    "import torch\n",
    "\n",
    "# Normalize the class_features and cls_features to unit vectors\n",
    "class_features_norm = torch.nn.functional.normalize(class_features, p=2, dim=1)\n",
    "cls_features_norm = torch.nn.functional.normalize(cls_features, p=2, dim=1)\n",
    "\n",
    "# Compute the cosine similarity matrix\n",
    "cosine_sim_matrix = torch.matmul(cls_features_norm, class_features_norm.T)\n",
    "\n",
    "# Get the best class for each row in cls_features\n",
    "best_class_indices = torch.argmax(cosine_sim_matrix, dim=1)\n",
    "\n",
    "# Convert the indices to class labels if needed\n",
    "best_class_labels = best_class_indices.tolist()\n",
    "\n",
    "# If you want the actual cosine similarity values for the best class:\n",
    "best_cosine_sim_values = torch.max(cosine_sim_matrix, dim=1).values\n",
    "\n",
    "# Now best_class_labels contains the best class for each row in cls_features\n",
    "# and best_cosine_sim_values contains the corresponding cosine similarity values\n",
    "\n",
    "dict_ = dict(zip(range(len(list_label)), list_label))\n",
    "\n",
    "pred = [dict_[x] for x in best_class_labels]\n",
    "ans = data['Точка отказа'].tolist()"
   ]
  },
  {
   "cell_type": "code",
   "execution_count": 63,
   "id": "033fbab7-b3d8-4cc0-b6f6-86ddd09be0b6",
   "metadata": {},
   "outputs": [
    {
     "name": "stdout",
     "output_type": "stream",
     "text": [
      "                         precision    recall  f1-score   support\n",
      "\n",
      "                   Jack       0.00      0.00      0.00         0\n",
      "             SFP модуль       0.00      0.00      0.00        17\n",
      "          Wi-fi антенна       0.50      0.04      0.07        55\n",
      "           Wi-fi модуль       0.75      0.08      0.14        39\n",
      "            Аккумулятор       0.00      0.00      0.00        14\n",
      "           Блок питания       0.11      0.40      0.17        10\n",
      "             Вентилятор       0.00      0.00      0.00         0\n",
      "               Динамики       0.00      0.00      0.00         3\n",
      "                   Диск       0.00      0.00      0.00         0\n",
      "                  Диск        0.00      0.00      0.00         0\n",
      "                 Камера       0.00      0.00      0.00         1\n",
      "             Клавиатура       0.00      0.00      0.00         0\n",
      "           Консультация       0.00      0.00      0.00         4\n",
      "                 Корпус       0.00      0.00      0.00         0\n",
      "      Материнская плата       0.00      0.00      0.00         0\n",
      "                Матрица       0.03      0.50      0.05         2\n",
      "     Оперативная память       0.40      0.04      0.08        45\n",
      "Программное обеспечение       0.25      0.25      0.25         4\n",
      "                 Сервер       0.00      0.00      0.00         0\n",
      "\n",
      "               accuracy                           0.07       194\n",
      "              macro avg       0.11      0.07      0.04       194\n",
      "           weighted avg       0.40      0.07      0.08       194\n",
      "\n"
     ]
    },
    {
     "name": "stderr",
     "output_type": "stream",
     "text": [
      "C:\\Users\\Илья\\AppData\\Local\\Programs\\Python\\Python312\\Lib\\site-packages\\sklearn\\metrics\\_classification.py:1531: UndefinedMetricWarning: Recall is ill-defined and being set to 0.0 in labels with no true samples. Use `zero_division` parameter to control this behavior.\n",
      "  _warn_prf(average, modifier, f\"{metric.capitalize()} is\", len(result))\n",
      "C:\\Users\\Илья\\AppData\\Local\\Programs\\Python\\Python312\\Lib\\site-packages\\sklearn\\metrics\\_classification.py:1531: UndefinedMetricWarning: Recall is ill-defined and being set to 0.0 in labels with no true samples. Use `zero_division` parameter to control this behavior.\n",
      "  _warn_prf(average, modifier, f\"{metric.capitalize()} is\", len(result))\n",
      "C:\\Users\\Илья\\AppData\\Local\\Programs\\Python\\Python312\\Lib\\site-packages\\sklearn\\metrics\\_classification.py:1531: UndefinedMetricWarning: Recall is ill-defined and being set to 0.0 in labels with no true samples. Use `zero_division` parameter to control this behavior.\n",
      "  _warn_prf(average, modifier, f\"{metric.capitalize()} is\", len(result))\n"
     ]
    }
   ],
   "source": [
    "from sklearn.metrics import classification_report\n",
    "print(classification_report(pred, ans))"
   ]
  },
  {
   "cell_type": "code",
   "execution_count": 56,
   "id": "531fc44a-5abf-4c1b-9e70-30a0a9e63627",
   "metadata": {},
   "outputs": [],
   "source": [
    "dict_ = dict(zip(range(len(list_label)), list_label))"
   ]
  },
  {
   "cell_type": "code",
   "execution_count": 57,
   "id": "45c4b1b8-1657-4aec-bb37-e26999a3e078",
   "metadata": {},
   "outputs": [
    {
     "data": {
      "text/plain": [
       "{0: 'Блок питания',\n",
       " 1: 'Материнская плата',\n",
       " 2: 'Матрица',\n",
       " 3: 'Вентилятор',\n",
       " 4: 'Сервер',\n",
       " 5: 'Wi-fi модуль',\n",
       " 6: 'Диск',\n",
       " 7: 'Консультация',\n",
       " 8: 'SFP модуль',\n",
       " 9: 'Диск ',\n",
       " 10: 'Оперативная память',\n",
       " 11: 'Программное обеспечение',\n",
       " 12: 'Клавиатура',\n",
       " 13: 'Корпус',\n",
       " 14: 'Аккумулятор',\n",
       " 15: 'Камера',\n",
       " 16: 'Wi-fi антенна',\n",
       " 17: 'Динамики',\n",
       " 18: 'Jack'}"
      ]
     },
     "execution_count": 57,
     "metadata": {},
     "output_type": "execute_result"
    }
   ],
   "source": [
    "dict_"
   ]
  },
  {
   "cell_type": "code",
   "execution_count": 28,
   "id": "1908e402-f902-457d-a7ba-04d50a90ec02",
   "metadata": {},
   "outputs": [
    {
     "data": {
      "text/plain": [
       "array(['C223100360', 'C223094534', 'D251110041', 'C223014328',\n",
       "       'C223014125', 'C223010123', 'C223091001', 'C223012430',\n",
       "       'D252030021', 'c223012961', 'C223100312', 'C223090725',\n",
       "       'C223102255', 'CKM01212505744', 'С111120102', 'D252110012',\n",
       "       'С112040045', 'C222090950', 'C223090096', 'C223010035',\n",
       "       'C223102298', 'C223091126', 'C223010076', 'C223013256',\n",
       "       'С223090320', 'C223013523', 'C223014561', 'C223010345, С223092735',\n",
       "       'D263120004', 'D114030017(FTKY614)', 'С111080061', 'C223010446',\n",
       "       'D252030009',\n",
       "       'C223011170, C223102198, C223011889, C223101201, C223100299, C223011531',\n",
       "       'D251110015', 'C222090246', 'D254020003', 'C223091623',\n",
       "       'C223012998 C223101389  C223102298   C223100876  C223100050',\n",
       "       'D263090003', 'C223013250', 'C223011660', 'C233041042',\n",
       "       'C223011088', 'С111080030', 'C223091624', 'D251110011',\n",
       "       'C223014954', 'С223010395', 'C223012095', 'С223091324',\n",
       "       'С223091153', 'C223090893', 'C223090123', 'C223010423, C223011174',\n",
       "       'C223011046', 'C223011355', 'С111080029', 'C223091505',\n",
       "       'C223092664', 'C223011313', 'C223012413', 'C223100567',\n",
       "       'Е213120001', 'C223091496', 'C223090716', 'C223093014',\n",
       "       'C223090552', 'C223094573', 'CKM00194301861 // E419120013',\n",
       "       'C223012685', 'C223012682, C223011343, C223011380', 'С111120125',\n",
       "       'C223012272', 'C223011324', 'C223090155', 'С223011148',\n",
       "       'C222090998', 'D252030034', 'CKM00194300974', 'D252030050',\n",
       "       'D252030013', 'C111110002', 'D251110023', 'C223010066',\n",
       "       'C223012662', 'C233040369', 'C223012840', 'C111110043',\n",
       "       'C223012938', 'C223090918', 'C223012632', 'C223012010',\n",
       "       'C222091115',\n",
       "       'C223012606 C223012600 C223012675 C223011979 C223012790 C223011888',\n",
       "       'C223100275', 'C223011480', 'D114030010', 'C223090502',\n",
       "       'C223012127', 'D251110008', 'CKM00193800300', 'C223013549',\n",
       "       'C223101193', 'C223012685 C223010230 C223010386', 'D253040009',\n",
       "       'C223100876', 'C223013328', 'C223010034', 'C223012603',\n",
       "       'c223012503', 'C223100870', 'C223011966', 'C223010721',\n",
       "       'D253010009', 'C223010310', 'C223012410', 'C223090551',\n",
       "       'D252030019', 'C223101538', 'C223012335', 'D251110031',\n",
       "       'С223092905', 'С222090774', 'D252030011', 'C223010327',\n",
       "       'C223091227', 'C222091964', 'C223101179', 'C223014758',\n",
       "       'C223010757', 'CKM00194300973', 'C223090609', 'C223100251',\n",
       "       'С111110066', 'C223012059', 'C223010731', 'C223013450',\n",
       "       'C111110003', 'C223100081', 'С222090230', 'C223013824',\n",
       "       'C223011958', 'C233041869', 'D252030014', 'C223101457',\n",
       "       'C222091827', 'CKM00194401300', 'D252030012', 'C222091591',\n",
       "       'C223011312', 'E244030004, E244030002, E244030003', 'C222091364',\n",
       "       'C223090664', 'C223010701', 'C222090381', 'C223091364',\n",
       "       'CKM00193901783', 'C223100822', 'C223090696', 'C223011138',\n",
       "       'C111120016', 'C223090004', 'D251110010', 'C223102038',\n",
       "       'C223091266', 'C223011328', 'C223093407', 'C112050125',\n",
       "       'C223012731', 'C223014726', 'C223011358', 'C223012702',\n",
       "       'С222091091', 'C223010240', 'C223014096', 'C223012673',\n",
       "       'C223012100', 'd252090013', 'C223101296', 'C223091736',\n",
       "       'CKM00194301861',\n",
       "       'C223091216 C223091307 C223091468 C223091751 C223090099 C223090635 C223091364 C223091547 C223091736 C223091275 C223091861 C223090091 C223090302 C223090269 C223090214',\n",
       "       'C223091025', 'C223101219', 'С223093223', 'С223010731',\n",
       "       'C222091750', 'D263080001'], dtype=object)"
      ]
     },
     "execution_count": 28,
     "metadata": {},
     "output_type": "execute_result"
    }
   ],
   "source": [
    "data['Серийный номер'].unique()"
   ]
  },
  {
   "cell_type": "code",
   "execution_count": 32,
   "id": "79a55051-a231-4de4-8f84-6b1ab71714cb",
   "metadata": {},
   "outputs": [
    {
     "data": {
      "text/plain": [
       "'C223091216 C223091307 C223091468 C223091751 C223090099 C223090635 C223091364 C223091547 C223091736 C223091275 C223091861 C223090091 C223090302 C223090269 C223090214'"
      ]
     },
     "execution_count": 32,
     "metadata": {},
     "output_type": "execute_result"
    }
   ],
   "source": [
    "data.iloc[-7]['Серийный номер']"
   ]
  },
  {
   "cell_type": "code",
   "execution_count": null,
   "id": "9827bbe0-6b7b-468e-a9cc-88dc1bfc8d25",
   "metadata": {},
   "outputs": [],
   "source": []
  }
 ],
 "metadata": {
  "kernelspec": {
   "display_name": "Python 3 (ipykernel)",
   "language": "python",
   "name": "python3"
  },
  "language_info": {
   "codemirror_mode": {
    "name": "ipython",
    "version": 3
   },
   "file_extension": ".py",
   "mimetype": "text/x-python",
   "name": "python",
   "nbconvert_exporter": "python",
   "pygments_lexer": "ipython3",
   "version": "3.12.7"
  }
 },
 "nbformat": 4,
 "nbformat_minor": 5
}
