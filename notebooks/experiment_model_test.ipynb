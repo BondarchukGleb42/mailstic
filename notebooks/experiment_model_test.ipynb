{
 "cells": [
  {
   "cell_type": "code",
   "execution_count": 1,
   "id": "63172892-4ad7-4e62-af87-125e52536c28",
   "metadata": {},
   "outputs": [],
   "source": [
    "import pandas as pd\n",
    "from sklearn.utils import shuffle\n",
    "\n",
    "\n",
    "path = 'train_data_sila/train_data.csv'\n",
    "data = pd.read_csv(path)\n",
    "data['full_text'] = data['Тема'] + ' ' + data['Описание']\n",
    "data2 = pd.read_csv('synthetic_dataset_hard.csv')\n",
    "data2 = data2.drop(columns=['Unnamed: 0'])\n",
    "\n",
    "# data3 = pd.read_csv('synthetic_dataset_hard.csv')\n",
    "# data2 = pd.concat([data2, data3])\n",
    "data2 = shuffle(data2)\n",
    "\n",
    "data2['target'] = data2['target'].apply(lambda x: x.strip())"
   ]
  },
  {
   "cell_type": "code",
   "execution_count": 2,
   "id": "fff9fd9a-a2e0-4ab1-b51c-553f974099b4",
   "metadata": {},
   "outputs": [
    {
     "data": {
      "text/html": [
       "<div>\n",
       "<style scoped>\n",
       "    .dataframe tbody tr th:only-of-type {\n",
       "        vertical-align: middle;\n",
       "    }\n",
       "\n",
       "    .dataframe tbody tr th {\n",
       "        vertical-align: top;\n",
       "    }\n",
       "\n",
       "    .dataframe thead th {\n",
       "        text-align: right;\n",
       "    }\n",
       "</style>\n",
       "<table border=\"1\" class=\"dataframe\">\n",
       "  <thead>\n",
       "    <tr style=\"text-align: right;\">\n",
       "      <th></th>\n",
       "      <th>result</th>\n",
       "      <th>target</th>\n",
       "    </tr>\n",
       "  </thead>\n",
       "  <tbody>\n",
       "    <tr>\n",
       "      <th>4924</th>\n",
       "      <td>На сервере возникла проблема с диском, он нача...</td>\n",
       "      <td>Диск</td>\n",
       "    </tr>\n",
       "    <tr>\n",
       "      <th>3878</th>\n",
       "      <td>Здравствуйте! У меня возник вопрос по настройк...</td>\n",
       "      <td>Консультация</td>\n",
       "    </tr>\n",
       "    <tr>\n",
       "      <th>2292</th>\n",
       "      <td>На СХД возникла проблема с клавиатурой, не раб...</td>\n",
       "      <td>Клавиатура</td>\n",
       "    </tr>\n",
       "    <tr>\n",
       "      <th>1187</th>\n",
       "      <td>На ноутбуке Сила перестал работать Wi-fi. Не у...</td>\n",
       "      <td>Wi-fi антенна</td>\n",
       "    </tr>\n",
       "    <tr>\n",
       "      <th>4208</th>\n",
       "      <td>Здравствуйте! У меня возникла проблема с блоко...</td>\n",
       "      <td>Блок питания</td>\n",
       "    </tr>\n",
       "    <tr>\n",
       "      <th>...</th>\n",
       "      <td>...</td>\n",
       "      <td>...</td>\n",
       "    </tr>\n",
       "    <tr>\n",
       "      <th>3503</th>\n",
       "      <td>На сервере перестал работать вентилятор, из-за...</td>\n",
       "      <td>Вентилятор</td>\n",
       "    </tr>\n",
       "    <tr>\n",
       "      <th>2122</th>\n",
       "      <td>Добрый день! На сервере Сила возникла проблема...</td>\n",
       "      <td>Wi-fi модуль</td>\n",
       "    </tr>\n",
       "    <tr>\n",
       "      <th>799</th>\n",
       "      <td>На моем ноутбуке Сила перестал работать блок п...</td>\n",
       "      <td>Блок питания</td>\n",
       "    </tr>\n",
       "    <tr>\n",
       "      <th>2853</th>\n",
       "      <td>На ноутбуке Сила пропал звук, динамики не рабо...</td>\n",
       "      <td>Динамики</td>\n",
       "    </tr>\n",
       "    <tr>\n",
       "      <th>1688</th>\n",
       "      <td>На ноутбуке Сила возникла проблема с сервером,...</td>\n",
       "      <td>Сервер</td>\n",
       "    </tr>\n",
       "  </tbody>\n",
       "</table>\n",
       "<p>5000 rows × 2 columns</p>\n",
       "</div>"
      ],
      "text/plain": [
       "                                                 result         target\n",
       "4924  На сервере возникла проблема с диском, он нача...           Диск\n",
       "3878  Здравствуйте! У меня возник вопрос по настройк...   Консультация\n",
       "2292  На СХД возникла проблема с клавиатурой, не раб...     Клавиатура\n",
       "1187  На ноутбуке Сила перестал работать Wi-fi. Не у...  Wi-fi антенна\n",
       "4208  Здравствуйте! У меня возникла проблема с блоко...   Блок питания\n",
       "...                                                 ...            ...\n",
       "3503  На сервере перестал работать вентилятор, из-за...     Вентилятор\n",
       "2122  Добрый день! На сервере Сила возникла проблема...   Wi-fi модуль\n",
       "799   На моем ноутбуке Сила перестал работать блок п...   Блок питания\n",
       "2853  На ноутбуке Сила пропал звук, динамики не рабо...       Динамики\n",
       "1688  На ноутбуке Сила возникла проблема с сервером,...         Сервер\n",
       "\n",
       "[5000 rows x 2 columns]"
      ]
     },
     "execution_count": 2,
     "metadata": {},
     "output_type": "execute_result"
    }
   ],
   "source": [
    "data2"
   ]
  },
  {
   "cell_type": "code",
   "execution_count": 113,
   "id": "0b70755a-37a3-441a-b095-5ed4c927e203",
   "metadata": {},
   "outputs": [
    {
     "data": {
      "text/plain": [
       "array(['Здравствуйте! У меня возникла проблема с матрицей на ноутбуке Сила. При использовании устройства, стала замечать, что на экране появились странные вертикальные полосы, которые мешают полноценной работе. Полосы появляются как при запуске системы, так и во время работы с различными приложениями. Кроме того, иногда экран полностью гаснет, и требуется перезагрузка устройства для восстановления изображения. Я пробовала провести диагностику через встроенные инструменты, но они не выявили никаких проблем. Пожалуйста, помогите разобраться с данной неполадкой. Буду ждать вашего ответа.'],\n",
       "      dtype=object)"
      ]
     },
     "execution_count": 113,
     "metadata": {},
     "output_type": "execute_result"
    }
   ],
   "source": [
    "data2.sample(1)['result'].values"
   ]
  },
  {
   "cell_type": "code",
   "execution_count": 35,
   "id": "94888e04-31e9-4d25-a7d2-dada6cd9ef2f",
   "metadata": {},
   "outputs": [],
   "source": [
    "label_2_n = {'Блок питания': 0,\n",
    " 'Материнская плата': 1,\n",
    " 'Матрица': 2,\n",
    " 'Вентилятор': 3,\n",
    " 'Сервер': 4,\n",
    " 'Wi-fi модуль': 5,\n",
    " 'Диск': 6,\n",
    " 'Консультация': 7,\n",
    " 'SFP модуль': 8,\n",
    " 'Оперативная память': 9,\n",
    " 'Программное обеспечение': 10,\n",
    " 'Клавиатура': 11,\n",
    " 'Корпус': 12,\n",
    " 'Аккумулятор': 13,\n",
    " 'Камера': 14,\n",
    " 'Wi-fi антенна': 15,\n",
    " 'Динамики': 16,\n",
    " 'Jack': 17\n",
    "}\n",
    "n_2_label = {\n",
    " 0: 'Блок питания',\n",
    " 1: 'Материнская плата',\n",
    " 2: 'Матрица',\n",
    " 3: 'Вентилятор',\n",
    " 4: 'Сервер',\n",
    " 5: 'Wi-fi модуль',\n",
    " 6: 'Диск',\n",
    " 7: 'Консультация',\n",
    " 8: 'SFP модуль',\n",
    " 9: 'Оперативная память',\n",
    " 10: 'Программное обеспечение',\n",
    " 11: 'Клавиатура',\n",
    " 12: 'Корпус',\n",
    " 13: 'Аккумулятор',\n",
    " 14: 'Камера',\n",
    " 15: 'Wi-fi антенна',\n",
    " 16: 'Динамики',\n",
    " 17: 'Jack'\n",
    "}"
   ]
  },
  {
   "cell_type": "code",
   "execution_count": 36,
   "id": "1d682b23-c398-4990-be01-7fdfa43dc42d",
   "metadata": {},
   "outputs": [],
   "source": [
    "import re\n",
    "from tqdm.notebook import tqdm\n",
    "import nltk\n",
    "from nltk.stem.snowball import SnowballStemmer\n",
    "\n",
    "# nltk.download('punkt')\n",
    "# stemmer = SnowballStemmer(\"russian\")\n",
    "# nltk.download('punkt_tab')\n",
    "\n",
    "def preprocess_text(text):\n",
    "    # Удаление знаков препинания и цифр\n",
    "    text = re.sub(r'[^\\w\\s]', '', text)\n",
    "    text = re.sub(r'\\d+', '', text)\n",
    "    \n",
    "    # Удаление лишних пробелов\n",
    "    text = re.sub(r'\\s+', ' ', text).strip()\n",
    "    \n",
    "    # # Стемминг\n",
    "    # words = nltk.word_tokenize(text)\n",
    "    # stemmed_words = [stemmer.stem(word) for word in words]\n",
    "    \n",
    "    # # Соединение стеммизированных слов обратно в текст\n",
    "    # stemmed_text = ' '.join(stemmed_words)\n",
    "    \n",
    "    return text\n",
    "\n",
    "def preprocess_texts(texts):\n",
    "    return [preprocess_text(text) for text in tqdm(texts)]"
   ]
  },
  {
   "cell_type": "code",
   "execution_count": 37,
   "id": "aeccc3a6-8a9b-4d1c-a1de-94e3f4ee4a30",
   "metadata": {},
   "outputs": [
    {
     "data": {
      "text/html": [
       "<div>\n",
       "<style scoped>\n",
       "    .dataframe tbody tr th:only-of-type {\n",
       "        vertical-align: middle;\n",
       "    }\n",
       "\n",
       "    .dataframe tbody tr th {\n",
       "        vertical-align: top;\n",
       "    }\n",
       "\n",
       "    .dataframe thead th {\n",
       "        text-align: right;\n",
       "    }\n",
       "</style>\n",
       "<table border=\"1\" class=\"dataframe\">\n",
       "  <thead>\n",
       "    <tr style=\"text-align: right;\">\n",
       "      <th></th>\n",
       "      <th>result</th>\n",
       "      <th>target</th>\n",
       "    </tr>\n",
       "  </thead>\n",
       "  <tbody>\n",
       "    <tr>\n",
       "      <th>1501</th>\n",
       "      <td>На ноутбуке Сила перестал распознаваться диск....</td>\n",
       "      <td>Диск</td>\n",
       "    </tr>\n",
       "    <tr>\n",
       "      <th>2586</th>\n",
       "      <td>На СХД перестал работать Wi-fi модуль, не могу...</td>\n",
       "      <td>Wi-fi модуль</td>\n",
       "    </tr>\n",
       "    <tr>\n",
       "      <th>2653</th>\n",
       "      <td>Здравствуйте! У меня возникла проблема с матри...</td>\n",
       "      <td>Матрица</td>\n",
       "    </tr>\n",
       "    <tr>\n",
       "      <th>1055</th>\n",
       "      <td>На ноутбуке Сила камера перестала работать пос...</td>\n",
       "      <td>Камера</td>\n",
       "    </tr>\n",
       "    <tr>\n",
       "      <th>705</th>\n",
       "      <td>На СХД возникла проблема с Wi-fi модулем. Подк...</td>\n",
       "      <td>Wi-fi модуль</td>\n",
       "    </tr>\n",
       "    <tr>\n",
       "      <th>...</th>\n",
       "      <td>...</td>\n",
       "      <td>...</td>\n",
       "    </tr>\n",
       "    <tr>\n",
       "      <th>4426</th>\n",
       "      <td>Здравствуйте! У меня возникла проблема с разъе...</td>\n",
       "      <td>Jack</td>\n",
       "    </tr>\n",
       "    <tr>\n",
       "      <th>466</th>\n",
       "      <td>На ноутбуке Сила динамики не работают, при это...</td>\n",
       "      <td>Динамики</td>\n",
       "    </tr>\n",
       "    <tr>\n",
       "      <th>3092</th>\n",
       "      <td>На ноутбуке Сила возникли проблемы с сервером:...</td>\n",
       "      <td>Сервер</td>\n",
       "    </tr>\n",
       "    <tr>\n",
       "      <th>3772</th>\n",
       "      <td>Добрый день! У нас возникла проблема с Wi-Fi м...</td>\n",
       "      <td>Wi-fi модуль</td>\n",
       "    </tr>\n",
       "    <tr>\n",
       "      <th>860</th>\n",
       "      <td>На сервере возникла проблема с блоком питания,...</td>\n",
       "      <td>Блок питания</td>\n",
       "    </tr>\n",
       "  </tbody>\n",
       "</table>\n",
       "<p>5000 rows × 2 columns</p>\n",
       "</div>"
      ],
      "text/plain": [
       "                                                 result        target\n",
       "1501  На ноутбуке Сила перестал распознаваться диск....          Диск\n",
       "2586  На СХД перестал работать Wi-fi модуль, не могу...  Wi-fi модуль\n",
       "2653  Здравствуйте! У меня возникла проблема с матри...       Матрица\n",
       "1055  На ноутбуке Сила камера перестала работать пос...        Камера\n",
       "705   На СХД возникла проблема с Wi-fi модулем. Подк...  Wi-fi модуль\n",
       "...                                                 ...           ...\n",
       "4426  Здравствуйте! У меня возникла проблема с разъе...          Jack\n",
       "466   На ноутбуке Сила динамики не работают, при это...      Динамики\n",
       "3092  На ноутбуке Сила возникли проблемы с сервером:...        Сервер\n",
       "3772  Добрый день! У нас возникла проблема с Wi-Fi м...  Wi-fi модуль\n",
       "860   На сервере возникла проблема с блоком питания,...  Блок питания\n",
       "\n",
       "[5000 rows x 2 columns]"
      ]
     },
     "execution_count": 37,
     "metadata": {},
     "output_type": "execute_result"
    }
   ],
   "source": [
    "data2"
   ]
  },
  {
   "cell_type": "code",
   "execution_count": 38,
   "id": "00364497-bd44-440e-aee5-cf2ff19a5f10",
   "metadata": {},
   "outputs": [
    {
     "data": {
      "application/vnd.jupyter.widget-view+json": {
       "model_id": "6ef93039cfb04a4e88d92ba3ea8cd662",
       "version_major": 2,
       "version_minor": 0
      },
      "text/plain": [
       "  0%|          | 0/5000 [00:00<?, ?it/s]"
      ]
     },
     "metadata": {},
     "output_type": "display_data"
    }
   ],
   "source": [
    "texts = data2['result'].values.tolist()\n",
    "texts = preprocess_texts(texts)\n",
    "\n",
    "labels = data2['target'].values.tolist()\n",
    "labels_unique = data2['target'].unique()\n",
    "labels = [label_2_n[x] for x in labels]"
   ]
  },
  {
   "cell_type": "code",
   "execution_count": 39,
   "id": "e28daf0b-216c-40eb-acff-e4f9447e1d65",
   "metadata": {},
   "outputs": [
    {
     "name": "stderr",
     "output_type": "stream",
     "text": [
      "Some weights of BertForSequenceClassification were not initialized from the model checkpoint at cointegrated/LaBSE-en-ru and are newly initialized: ['classifier.bias', 'classifier.weight']\n",
      "You should probably TRAIN this model on a down-stream task to be able to use it for predictions and inference.\n"
     ]
    }
   ],
   "source": [
    "from transformers import AutoTokenizer, AutoModelForSequenceClassification, Trainer, TrainingArguments\n",
    "import torch\n",
    "import pandas as pd\n",
    "from sklearn.model_selection import train_test_split\n",
    "from datasets import Dataset\n",
    "\n",
    "model_name = \"cointegrated/LaBSE-en-ru\"\n",
    "model = AutoModelForSequenceClassification.from_pretrained(model_name, num_labels=len(labels_unique))\n",
    "tokenizer = AutoTokenizer.from_pretrained(model_name)"
   ]
  },
  {
   "cell_type": "code",
   "execution_count": 40,
   "id": "50f7d39a-ba31-47c0-be86-14736cf2fb2e",
   "metadata": {},
   "outputs": [],
   "source": [
    "# Разделение данных на тренировочный и тестовый наборы\n",
    "train_texts, test_texts, train_labels, test_labels = train_test_split(texts, labels, test_size=0.2, random_state=42)"
   ]
  },
  {
   "cell_type": "code",
   "execution_count": 41,
   "id": "24635086-cff7-45c9-943d-0652715325d6",
   "metadata": {},
   "outputs": [
    {
     "data": {
      "application/vnd.jupyter.widget-view+json": {
       "model_id": "16a1cba32dcb48749559008fa0df6531",
       "version_major": 2,
       "version_minor": 0
      },
      "text/plain": [
       "Map:   0%|          | 0/4000 [00:00<?, ? examples/s]"
      ]
     },
     "metadata": {},
     "output_type": "display_data"
    },
    {
     "data": {
      "application/vnd.jupyter.widget-view+json": {
       "model_id": "6668d43f27404054aa42b39a1b3b51af",
       "version_major": 2,
       "version_minor": 0
      },
      "text/plain": [
       "Map:   0%|          | 0/1000 [00:00<?, ? examples/s]"
      ]
     },
     "metadata": {},
     "output_type": "display_data"
    }
   ],
   "source": [
    "train_dataset = Dataset.from_dict({'text': train_texts, 'label': train_labels})\n",
    "test_dataset = Dataset.from_dict({'text': test_texts, 'label': test_labels})\n",
    "\n",
    "tokenizer = AutoTokenizer.from_pretrained(model_name)\n",
    "\n",
    "def tokenize_function(examples):\n",
    "    return tokenizer(examples['text'], padding=\"max_length\", truncation=True, max_length=512)\n",
    "\n",
    "tokenized_train_dataset = train_dataset.map(tokenize_function, batched=True)\n",
    "tokenized_test_dataset = test_dataset.map(tokenize_function, batched=True)\n",
    "\n",
    "# Устанавливаем формат для датасетов\n",
    "tokenized_train_dataset.set_format(type='torch', columns=['input_ids', 'attention_mask', 'label'])\n",
    "tokenized_test_dataset.set_format(type='torch', columns=['input_ids', 'attention_mask', 'label'])"
   ]
  },
  {
   "cell_type": "code",
   "execution_count": 42,
   "id": "b26069ef-2a2e-4e7a-a4f2-6bd15d550f43",
   "metadata": {},
   "outputs": [
    {
     "name": "stderr",
     "output_type": "stream",
     "text": [
      "C:\\Users\\Илья\\AppData\\Local\\Programs\\Python\\Python312\\Lib\\site-packages\\transformers\\training_args.py:1545: FutureWarning: `evaluation_strategy` is deprecated and will be removed in version 4.46 of 🤗 Transformers. Use `eval_strategy` instead\n",
      "  warnings.warn(\n"
     ]
    }
   ],
   "source": [
    "training_args = TrainingArguments(\n",
    "    output_dir=\"/results\",\n",
    "    evaluation_strategy=\"epoch\",\n",
    "    learning_rate=2e-5,\n",
    "    per_device_train_batch_size=8,\n",
    "    per_device_eval_batch_size=8,\n",
    "    num_train_epochs=2,\n",
    "    weight_decay=0.01,\n",
    "    logging_dir='/logs',\n",
    "    logging_strategy=\"steps\",  # Установите стратегию логирования\n",
    "    logging_steps=10,  # Установите количество шагов для логирования\n",
    ")"
   ]
  },
  {
   "cell_type": "code",
   "execution_count": 43,
   "id": "dcbd5230-5fca-4438-8988-d0631c17d4fb",
   "metadata": {},
   "outputs": [],
   "source": [
    "trainer = Trainer(\n",
    "    model=model,\n",
    "    args=training_args,\n",
    "    train_dataset=tokenized_train_dataset,\n",
    "    eval_dataset=tokenized_test_dataset,\n",
    ")"
   ]
  },
  {
   "cell_type": "code",
   "execution_count": 44,
   "id": "66c7305c-d9c7-40cf-97dc-a09420ca0f03",
   "metadata": {},
   "outputs": [
    {
     "data": {
      "text/html": [
       "\n",
       "    <div>\n",
       "      \n",
       "      <progress value='1000' max='1000' style='width:300px; height:20px; vertical-align: middle;'></progress>\n",
       "      [1000/1000 12:36, Epoch 2/2]\n",
       "    </div>\n",
       "    <table border=\"1\" class=\"dataframe\">\n",
       "  <thead>\n",
       " <tr style=\"text-align: left;\">\n",
       "      <th>Epoch</th>\n",
       "      <th>Training Loss</th>\n",
       "      <th>Validation Loss</th>\n",
       "    </tr>\n",
       "  </thead>\n",
       "  <tbody>\n",
       "    <tr>\n",
       "      <td>1</td>\n",
       "      <td>0.066400</td>\n",
       "      <td>0.037855</td>\n",
       "    </tr>\n",
       "    <tr>\n",
       "      <td>2</td>\n",
       "      <td>0.007500</td>\n",
       "      <td>0.024522</td>\n",
       "    </tr>\n",
       "  </tbody>\n",
       "</table><p>"
      ],
      "text/plain": [
       "<IPython.core.display.HTML object>"
      ]
     },
     "metadata": {},
     "output_type": "display_data"
    },
    {
     "data": {
      "text/plain": [
       "TrainOutput(global_step=1000, training_loss=0.22454078511148692, metrics={'train_runtime': 756.9141, 'train_samples_per_second': 10.569, 'train_steps_per_second': 1.321, 'total_flos': 2105190825984000.0, 'train_loss': 0.22454078511148692, 'epoch': 2.0})"
      ]
     },
     "execution_count": 44,
     "metadata": {},
     "output_type": "execute_result"
    }
   ],
   "source": [
    "trainer.train()"
   ]
  },
  {
   "cell_type": "code",
   "execution_count": 45,
   "id": "84a55b1a-c954-42ea-96d9-c79f0fbc6c76",
   "metadata": {},
   "outputs": [],
   "source": [
    "import re\n",
    "from sklearn.metrics import f1_score, accuracy_score, classification_report\n",
    "data[\"Тема\"] = data[\"Тема\"].map(lambda x: re.sub(r'\\s+', ' ', x.replace(\"//\", \"\")).strip())\n",
    "data[\"Описание\"] = data[\"Описание\"].map(lambda x: re.sub(r'\\s+', ' ', x.replace(\"\\n\", \" \").replace(\"_x000D_\", \"\").strip()))\n",
    "data[\"full_text\"] = data[\"Тема\"] + \" \" + data[\"Описание\"]"
   ]
  },
  {
   "cell_type": "code",
   "execution_count": 46,
   "id": "132ea88c-0bac-4645-b59f-c28c96cdc7cf",
   "metadata": {},
   "outputs": [
    {
     "data": {
      "application/vnd.jupyter.widget-view+json": {
       "model_id": "09c4f67580b449ce82070ec52eecda7c",
       "version_major": 2,
       "version_minor": 0
      },
      "text/plain": [
       "  0%|          | 0/194 [00:00<?, ?it/s]"
      ]
     },
     "metadata": {},
     "output_type": "display_data"
    }
   ],
   "source": [
    "data['Точка отказа'] = data['Точка отказа'].apply(lambda x: x.strip())\n",
    "\n",
    "texts = data['full_text'].values.tolist()\n",
    "texts = preprocess_texts(texts)\n",
    "\n",
    "labels = data['Точка отказа'].values.tolist()\n",
    "labels_unique = data['Точка отказа'].unique()\n",
    "labels = [label_2_n[x] for x in labels]"
   ]
  },
  {
   "cell_type": "code",
   "execution_count": 47,
   "id": "63c09365-eebc-4558-a5ac-62f27973f96a",
   "metadata": {},
   "outputs": [],
   "source": [
    "train_texts, test_texts, train_labels, test_labels = train_test_split(texts, labels, test_size=0.2, random_state=42)"
   ]
  },
  {
   "cell_type": "code",
   "execution_count": 48,
   "id": "212093cd-94ef-432c-b5b3-d9d55598f2fe",
   "metadata": {},
   "outputs": [
    {
     "data": {
      "application/vnd.jupyter.widget-view+json": {
       "model_id": "76226e19ac90469fa9d1be53e9bdcea2",
       "version_major": 2,
       "version_minor": 0
      },
      "text/plain": [
       "Map:   0%|          | 0/155 [00:00<?, ? examples/s]"
      ]
     },
     "metadata": {},
     "output_type": "display_data"
    },
    {
     "data": {
      "application/vnd.jupyter.widget-view+json": {
       "model_id": "20f062bb9cc94347b4256d2ad136efbe",
       "version_major": 2,
       "version_minor": 0
      },
      "text/plain": [
       "Map:   0%|          | 0/39 [00:00<?, ? examples/s]"
      ]
     },
     "metadata": {},
     "output_type": "display_data"
    }
   ],
   "source": [
    "train_dataset = Dataset.from_dict({'text': train_texts, 'label': train_labels})\n",
    "test_dataset = Dataset.from_dict({'text': test_texts, 'label': test_labels})\n",
    "\n",
    "tokenizer = AutoTokenizer.from_pretrained(model_name)\n",
    "\n",
    "def tokenize_function(examples):\n",
    "    return tokenizer(examples['text'], padding=\"max_length\", truncation=True, max_length=512)\n",
    "\n",
    "tokenized_train_dataset = train_dataset.map(tokenize_function, batched=True)\n",
    "tokenized_test_dataset = test_dataset.map(tokenize_function, batched=True)\n",
    "\n",
    "# Устанавливаем формат для датасетов\n",
    "tokenized_train_dataset.set_format(type='torch', columns=['input_ids', 'attention_mask', 'label'])\n",
    "tokenized_test_dataset.set_format(type='torch', columns=['input_ids', 'attention_mask', 'label'])"
   ]
  },
  {
   "cell_type": "code",
   "execution_count": 57,
   "id": "5a5034c2-f7b1-43c9-b22a-609f3179ece7",
   "metadata": {},
   "outputs": [
    {
     "name": "stderr",
     "output_type": "stream",
     "text": [
      "C:\\Users\\Илья\\AppData\\Local\\Programs\\Python\\Python312\\Lib\\site-packages\\transformers\\training_args.py:1545: FutureWarning: `evaluation_strategy` is deprecated and will be removed in version 4.46 of 🤗 Transformers. Use `eval_strategy` instead\n",
      "  warnings.warn(\n"
     ]
    }
   ],
   "source": [
    "training_args = TrainingArguments(\n",
    "    output_dir=\"/results\",\n",
    "    evaluation_strategy=\"epoch\",\n",
    "    learning_rate=1e-5,\n",
    "    per_device_train_batch_size=8,\n",
    "    per_device_eval_batch_size=8,\n",
    "    num_train_epochs=1,\n",
    "    weight_decay=0.01,\n",
    "    logging_dir='/logs',\n",
    "    logging_strategy=\"steps\",  # Установите стратегию логирования\n",
    "    logging_steps=10,  # Установите количество шагов для логирования\n",
    ")\n",
    "trainer = Trainer(\n",
    "    model=model,\n",
    "    args=training_args,\n",
    "    train_dataset=tokenized_train_dataset,\n",
    "    eval_dataset=tokenized_test_dataset,\n",
    ")"
   ]
  },
  {
   "cell_type": "code",
   "execution_count": 58,
   "id": "091d4a01-91e8-4cf8-8786-7b04a3c47423",
   "metadata": {},
   "outputs": [
    {
     "data": {
      "text/html": [
       "\n",
       "    <div>\n",
       "      \n",
       "      <progress value='20' max='20' style='width:300px; height:20px; vertical-align: middle;'></progress>\n",
       "      [20/20 00:16, Epoch 1/1]\n",
       "    </div>\n",
       "    <table border=\"1\" class=\"dataframe\">\n",
       "  <thead>\n",
       " <tr style=\"text-align: left;\">\n",
       "      <th>Epoch</th>\n",
       "      <th>Training Loss</th>\n",
       "      <th>Validation Loss</th>\n",
       "    </tr>\n",
       "  </thead>\n",
       "  <tbody>\n",
       "    <tr>\n",
       "      <td>1</td>\n",
       "      <td>0.846200</td>\n",
       "      <td>1.181417</td>\n",
       "    </tr>\n",
       "  </tbody>\n",
       "</table><p>"
      ],
      "text/plain": [
       "<IPython.core.display.HTML object>"
      ]
     },
     "metadata": {},
     "output_type": "display_data"
    },
    {
     "data": {
      "text/plain": [
       "TrainOutput(global_step=20, training_loss=0.5319396495819092, metrics={'train_runtime': 17.523, 'train_samples_per_second': 8.846, 'train_steps_per_second': 1.141, 'total_flos': 40788072253440.0, 'train_loss': 0.5319396495819092, 'epoch': 1.0})"
      ]
     },
     "execution_count": 58,
     "metadata": {},
     "output_type": "execute_result"
    }
   ],
   "source": [
    "trainer.train()"
   ]
  },
  {
   "cell_type": "code",
   "execution_count": 30,
   "id": "937ea122-c429-4e05-8f70-1464b9528377",
   "metadata": {},
   "outputs": [
    {
     "data": {
      "text/plain": [
       "('./fine_tuned_LaBSE\\\\tokenizer_config.json',\n",
       " './fine_tuned_LaBSE\\\\special_tokens_map.json',\n",
       " './fine_tuned_LaBSE\\\\vocab.txt',\n",
       " './fine_tuned_LaBSE\\\\added_tokens.json',\n",
       " './fine_tuned_LaBSE\\\\tokenizer.json')"
      ]
     },
     "execution_count": 30,
     "metadata": {},
     "output_type": "execute_result"
    }
   ],
   "source": [
    "model.save_pretrained(\"./fine_tuned_LaBSE\")\n",
    "tokenizer.save_pretrained(\"./fine_tuned_LaBSE\")"
   ]
  },
  {
   "cell_type": "code",
   "execution_count": 59,
   "id": "48365d2f-ab0b-4ff2-b016-ef5b315bc9e0",
   "metadata": {},
   "outputs": [
    {
     "data": {
      "text/html": [],
      "text/plain": [
       "<IPython.core.display.HTML object>"
      ]
     },
     "metadata": {},
     "output_type": "display_data"
    }
   ],
   "source": [
    "# Получение предсказаний на тестовых данных\n",
    "predictions = trainer.predict(tokenized_test_dataset)\n",
    "\n",
    "# Получение меток и предсказаний\n",
    "preds = torch.argmax(torch.tensor(predictions.predictions), dim=-1)\n",
    "labels = torch.tensor(predictions.label_ids)"
   ]
  },
  {
   "cell_type": "code",
   "execution_count": 52,
   "id": "bfb388a7-ed1b-4315-bca5-e630f0716d39",
   "metadata": {},
   "outputs": [
    {
     "name": "stdout",
     "output_type": "stream",
     "text": [
      "              precision    recall  f1-score   support\n",
      "\n",
      "           0       0.33      1.00      0.50         2\n",
      "           1       0.75      0.60      0.67        10\n",
      "           2       0.90      0.82      0.86        11\n",
      "           3       0.33      0.50      0.40         2\n",
      "           4       1.00      1.00      1.00         1\n",
      "           6       1.00      0.50      0.67         2\n",
      "           7       1.00      0.50      0.67         2\n",
      "           8       1.00      1.00      1.00         1\n",
      "           9       1.00      0.50      0.67         2\n",
      "          11       1.00      0.67      0.80         3\n",
      "          12       0.33      0.50      0.40         2\n",
      "          14       0.00      0.00      0.00         0\n",
      "          15       1.00      1.00      1.00         1\n",
      "\n",
      "    accuracy                           0.69        39\n",
      "   macro avg       0.74      0.66      0.66        39\n",
      "weighted avg       0.81      0.69      0.72        39\n",
      "\n"
     ]
    },
    {
     "name": "stderr",
     "output_type": "stream",
     "text": [
      "C:\\Users\\Илья\\AppData\\Local\\Programs\\Python\\Python312\\Lib\\site-packages\\sklearn\\metrics\\_classification.py:1531: UndefinedMetricWarning: Recall is ill-defined and being set to 0.0 in labels with no true samples. Use `zero_division` parameter to control this behavior.\n",
      "  _warn_prf(average, modifier, f\"{metric.capitalize()} is\", len(result))\n",
      "C:\\Users\\Илья\\AppData\\Local\\Programs\\Python\\Python312\\Lib\\site-packages\\sklearn\\metrics\\_classification.py:1531: UndefinedMetricWarning: Recall is ill-defined and being set to 0.0 in labels with no true samples. Use `zero_division` parameter to control this behavior.\n",
      "  _warn_prf(average, modifier, f\"{metric.capitalize()} is\", len(result))\n",
      "C:\\Users\\Илья\\AppData\\Local\\Programs\\Python\\Python312\\Lib\\site-packages\\sklearn\\metrics\\_classification.py:1531: UndefinedMetricWarning: Recall is ill-defined and being set to 0.0 in labels with no true samples. Use `zero_division` parameter to control this behavior.\n",
      "  _warn_prf(average, modifier, f\"{metric.capitalize()} is\", len(result))\n"
     ]
    }
   ],
   "source": [
    "print(classification_report(labels, preds))"
   ]
  },
  {
   "cell_type": "code",
   "execution_count": 56,
   "id": "9bb98ba5-3394-476a-a6b9-e9806a7f0827",
   "metadata": {},
   "outputs": [
    {
     "name": "stdout",
     "output_type": "stream",
     "text": [
      "              precision    recall  f1-score   support\n",
      "\n",
      "           0       0.33      1.00      0.50         2\n",
      "           1       0.75      0.60      0.67        10\n",
      "           2       0.89      0.73      0.80        11\n",
      "           3       0.33      0.50      0.40         2\n",
      "           4       1.00      1.00      1.00         1\n",
      "           6       1.00      0.50      0.67         2\n",
      "           7       1.00      0.50      0.67         2\n",
      "           8       1.00      1.00      1.00         1\n",
      "           9       1.00      0.50      0.67         2\n",
      "          11       1.00      1.00      1.00         3\n",
      "          12       0.33      0.50      0.40         2\n",
      "          14       0.00      0.00      0.00         0\n",
      "          15       1.00      1.00      1.00         1\n",
      "\n",
      "    accuracy                           0.69        39\n",
      "   macro avg       0.74      0.68      0.67        39\n",
      "weighted avg       0.80      0.69      0.72        39\n",
      "\n"
     ]
    },
    {
     "name": "stderr",
     "output_type": "stream",
     "text": [
      "C:\\Users\\Илья\\AppData\\Local\\Programs\\Python\\Python312\\Lib\\site-packages\\sklearn\\metrics\\_classification.py:1531: UndefinedMetricWarning: Recall is ill-defined and being set to 0.0 in labels with no true samples. Use `zero_division` parameter to control this behavior.\n",
      "  _warn_prf(average, modifier, f\"{metric.capitalize()} is\", len(result))\n",
      "C:\\Users\\Илья\\AppData\\Local\\Programs\\Python\\Python312\\Lib\\site-packages\\sklearn\\metrics\\_classification.py:1531: UndefinedMetricWarning: Recall is ill-defined and being set to 0.0 in labels with no true samples. Use `zero_division` parameter to control this behavior.\n",
      "  _warn_prf(average, modifier, f\"{metric.capitalize()} is\", len(result))\n",
      "C:\\Users\\Илья\\AppData\\Local\\Programs\\Python\\Python312\\Lib\\site-packages\\sklearn\\metrics\\_classification.py:1531: UndefinedMetricWarning: Recall is ill-defined and being set to 0.0 in labels with no true samples. Use `zero_division` parameter to control this behavior.\n",
      "  _warn_prf(average, modifier, f\"{metric.capitalize()} is\", len(result))\n"
     ]
    }
   ],
   "source": [
    "print(classification_report(labels, preds))"
   ]
  },
  {
   "cell_type": "code",
   "execution_count": 60,
   "id": "dae9d164-334f-40c4-ba4a-d3d66d3f3ee4",
   "metadata": {},
   "outputs": [
    {
     "name": "stdout",
     "output_type": "stream",
     "text": [
      "              precision    recall  f1-score   support\n",
      "\n",
      "           0       0.50      1.00      0.67         2\n",
      "           1       0.70      0.70      0.70        10\n",
      "           2       0.89      0.73      0.80        11\n",
      "           3       0.33      0.50      0.40         2\n",
      "           4       1.00      1.00      1.00         1\n",
      "           6       1.00      0.50      0.67         2\n",
      "           7       0.50      0.50      0.50         2\n",
      "           8       1.00      1.00      1.00         1\n",
      "           9       1.00      0.50      0.67         2\n",
      "          11       1.00      0.67      0.80         3\n",
      "          12       0.33      0.50      0.40         2\n",
      "          14       0.00      0.00      0.00         0\n",
      "          15       1.00      1.00      1.00         1\n",
      "\n",
      "    accuracy                           0.69        39\n",
      "   macro avg       0.71      0.66      0.66        39\n",
      "weighted avg       0.77      0.69      0.71        39\n",
      "\n"
     ]
    },
    {
     "name": "stderr",
     "output_type": "stream",
     "text": [
      "C:\\Users\\Илья\\AppData\\Local\\Programs\\Python\\Python312\\Lib\\site-packages\\sklearn\\metrics\\_classification.py:1531: UndefinedMetricWarning: Recall is ill-defined and being set to 0.0 in labels with no true samples. Use `zero_division` parameter to control this behavior.\n",
      "  _warn_prf(average, modifier, f\"{metric.capitalize()} is\", len(result))\n",
      "C:\\Users\\Илья\\AppData\\Local\\Programs\\Python\\Python312\\Lib\\site-packages\\sklearn\\metrics\\_classification.py:1531: UndefinedMetricWarning: Recall is ill-defined and being set to 0.0 in labels with no true samples. Use `zero_division` parameter to control this behavior.\n",
      "  _warn_prf(average, modifier, f\"{metric.capitalize()} is\", len(result))\n",
      "C:\\Users\\Илья\\AppData\\Local\\Programs\\Python\\Python312\\Lib\\site-packages\\sklearn\\metrics\\_classification.py:1531: UndefinedMetricWarning: Recall is ill-defined and being set to 0.0 in labels with no true samples. Use `zero_division` parameter to control this behavior.\n",
      "  _warn_prf(average, modifier, f\"{metric.capitalize()} is\", len(result))\n"
     ]
    }
   ],
   "source": [
    "print(classification_report(labels, preds))"
   ]
  },
  {
   "cell_type": "code",
   "execution_count": null,
   "id": "e5d55169-6667-4af6-a3e3-1d7ed19abd57",
   "metadata": {},
   "outputs": [],
   "source": []
  },
  {
   "cell_type": "code",
   "execution_count": null,
   "id": "e522e36a-4cac-43e9-95ed-93b799fa94d9",
   "metadata": {},
   "outputs": [],
   "source": []
  },
  {
   "cell_type": "code",
   "execution_count": null,
   "id": "06677bcb-0c92-4244-a377-24898f78daee",
   "metadata": {},
   "outputs": [],
   "source": []
  },
  {
   "cell_type": "code",
   "execution_count": null,
   "id": "d1e882cd-e321-4801-b0e6-56abeb2ef2ba",
   "metadata": {},
   "outputs": [],
   "source": []
  }
 ],
 "metadata": {
  "kernelspec": {
   "display_name": "Python 3 (ipykernel)",
   "language": "python",
   "name": "python3"
  },
  "language_info": {
   "codemirror_mode": {
    "name": "ipython",
    "version": 3
   },
   "file_extension": ".py",
   "mimetype": "text/x-python",
   "name": "python",
   "nbconvert_exporter": "python",
   "pygments_lexer": "ipython3",
   "version": "3.12.7"
  }
 },
 "nbformat": 4,
 "nbformat_minor": 5
}
